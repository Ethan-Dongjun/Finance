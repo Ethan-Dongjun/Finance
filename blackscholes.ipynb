{
 "cells": [
  {
   "cell_type": "code",
   "execution_count": 10,
   "id": "d1c1c91c",
   "metadata": {},
   "outputs": [
    {
     "name": "stdout",
     "output_type": "stream",
     "text": [
      "연속복리무위험이자율 = 0.04879016416943204\n",
      "연속복리를 적용한 1년뒤 종가 = 1.05\n"
     ]
    }
   ],
   "source": [
    "import math as m\n",
    "\n",
    "S = 100\n",
    "K = 100\n",
    "T = 5\n",
    "V = 0.3\n",
    "Rf = m.log(1.05)\n",
    "print('연속복리무위험이자율 =', Rf)\n",
    "print('연속복리를 적용한 1년뒤 종가 =', m.exp(Rf))"
   ]
  },
  {
   "cell_type": "code",
   "execution_count": 11,
   "id": "0fa0c740",
   "metadata": {},
   "outputs": [
    {
     "name": "stdout",
     "output_type": "stream",
     "text": [
      "d1 = 0.6990706090123837 , d2 = 0.028250215762446795\n"
     ]
    }
   ],
   "source": [
    "numerator = m.log(S/K) + (Rf + 1/2 * V**2) * T\n",
    "denominator = V * m.sqrt(T)\n",
    "d1 = numerator / denominator\n",
    "d2 = d1 - V * m.sqrt(T)\n",
    "print('d1 =', d1, ',', 'd2 =', d2)"
   ]
  },
  {
   "cell_type": "code",
   "execution_count": 12,
   "id": "928d5c45",
   "metadata": {},
   "outputs": [
    {
     "name": "stdout",
     "output_type": "stream",
     "text": [
      "Requirement already satisfied: scipy in c:\\programdata\\anaconda3\\envs\\finance\\lib\\site-packages (1.15.3)\n",
      "Requirement already satisfied: numpy<2.5,>=1.23.5 in c:\\programdata\\anaconda3\\envs\\finance\\lib\\site-packages (from scipy) (2.2.6)\n"
     ]
    }
   ],
   "source": [
    "!pip install --upgrade scipy"
   ]
  },
  {
   "cell_type": "code",
   "execution_count": 13,
   "id": "f9bad299",
   "metadata": {},
   "outputs": [],
   "source": [
    "import scipy as sp # scipy 모듈 임포트\n",
    "import scipy.stats # scipy에서 통계 모듈 임포트\n",
    "normdis = sp.stats.norm() # 변수에 표준정규분포를 입력해줌  "
   ]
  },
  {
   "cell_type": "code",
   "execution_count": 14,
   "id": "406cc602",
   "metadata": {},
   "outputs": [
    {
     "name": "stdout",
     "output_type": "stream",
     "text": [
      "N(d1) = 0.7577460474065406 , N(d2) = 0.028250215762446795\n"
     ]
    }
   ],
   "source": [
    "N_d1 = normdis.cdf(d1) # N(d1) 산출\n",
    "N_d2 = normdis.cdf(d2) # N(d2) 산출\n",
    "print('N(d1) =', N_d1, ',', 'N(d2) =', d2)"
   ]
  },
  {
   "cell_type": "code",
   "execution_count": 15,
   "id": "e5be30ff",
   "metadata": {},
   "outputs": [
    {
     "name": "stdout",
     "output_type": "stream",
     "text": [
      "Call Option Price = 35.715363768902215\n"
     ]
    }
   ],
   "source": [
    "#콜옵션 계산\n",
    "#C = S*N(d1) - K*e^(-Rf*T)*N(d1)\n",
    "C = S * N_d1 - K * m.exp(-Rf * T) * N_d2\n",
    "print('Call Option Price =', C)  "
   ]
  }
 ],
 "metadata": {
  "kernelspec": {
   "display_name": "finance",
   "language": "python",
   "name": "python3"
  },
  "language_info": {
   "codemirror_mode": {
    "name": "ipython",
    "version": 3
   },
   "file_extension": ".py",
   "mimetype": "text/x-python",
   "name": "python",
   "nbconvert_exporter": "python",
   "pygments_lexer": "ipython3",
   "version": "3.10.18"
  }
 },
 "nbformat": 4,
 "nbformat_minor": 5
}
