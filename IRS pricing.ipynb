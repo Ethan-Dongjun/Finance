{
 "cells": [
  {
   "cell_type": "code",
   "execution_count": 1,
   "id": "566df0a0",
   "metadata": {},
   "outputs": [],
   "source": [
    "cdcurve = {\n",
    "    \"node\": [\"1D\", \"3M\", \"1Y\", \"2Y\", \"3Y\", \"4Y\", \"5Y\"],\n",
    "    \"intrate\": [3.55, 3.48, 3.22, 3.00, 2.905, 2.8625, 2.845]\n",
    "}"
   ]
  },
  {
   "cell_type": "code",
   "execution_count": 2,
   "id": "c96436b0",
   "metadata": {},
   "outputs": [],
   "source": [
    "import pandas as pd\n",
    "\n",
    "# 딕셔너리 형태의 cdcurve 데이터\n",
    "cdcurve = {\n",
    "    \"node\": [\"1D\", \"3M\", \"1Y\", \"2Y\", \"3Y\", \"4Y\", \"5Y\"],\n",
    "    \"intrate\": [3.55, 3.48, 3.22, 3.00, 2.905, 2.8625, 2.845]\n",
    "}\n",
    "# 데이터프레임으로 데이터 변환 후 basedt 변수 생성(2024-08-02)\n",
    "df = pd.DataFrame(cdcurve)\n",
    "basedt = \"2024-08-02\"\n",
    "# basedt 컬럼 추가 및 컬럼 재배열\n",
    "df[\"basedt\"] = basedt\n",
    "df = df[[\"basedt\", \"node\", \"intrate\"]]"
   ]
  },
  {
   "cell_type": "markdown",
   "id": "882f4c34",
   "metadata": {},
   "source": [
    "금리 커브의 노드 일자"
   ]
  },
  {
   "cell_type": "code",
   "execution_count": 3,
   "id": "64b1c5b4",
   "metadata": {},
   "outputs": [],
   "source": [
    "# pandas(데이터 라이브러리), datetime(날짜 라이브러리), re(정규식 라이브러리) import \n",
    "import pandas as pd\n",
    "from datetime import datetime, timedelta\n",
    "from dateutil.relativedelta import relativedelta\n",
    "import re\n",
    "\n",
    "# node에서 숫자만 뽑아내는 함수\n",
    "def extract_numbers(input_string):\n",
    "\t# 숫자인 것 전부 뽑아내서 numbers에 저장\n",
    "    numbers = re.findall(r'\\d+', input_string)\n",
    "    # \"\" 공백 없이 합치기\n",
    "    return ''.join(numbers)    \n",
    "    \n",
    "# modified following 만족하는 날짜 return 하는 함수\n",
    "def get_modf_eom_date(date, holidays):\n",
    "    # 입수된 날짜의 월 변수에 저장\n",
    "    origin_month = date.month\n",
    "    # 입수된 날짜의 값이 5(토), 6(일), 휴일 일 경우 하루씩 더하는 작업 -> 휴일일 경우 \n",
    "    # 다음 영업일로 변환하는 loop 문\n",
    "    while date.weekday() >= 5 or date in holidays:\n",
    "        date += timedelta(days=1)\n",
    "    # 다음영업일로 변환하는 과정에서 월이 바뀌었을 경우\n",
    "    if date.month != origin_month:\n",
    "    \t# 다음월의 1일에서 직전일로 end_of_month 세팅(직전월의 마지막 날짜)\n",
    "        end_of_month = datetime(date.year, origin_month + 1, 1) - timedelta(days=1)\n",
    "        # 직전월의 마지막 날자가 휴일일 경우(5(토), 6(일), 휴일) 휴일이 아닌 날짜가 될 때까지\n",
    "        # 직전일로 변경하는 loop 문\n",
    "        while end_of_month.weekday() >= 5 or end_of_month in holidays:\n",
    "            end_of_month -= timedelta(days=1)\n",
    "        date = end_of_month\n",
    "    return date\n",
    "\n",
    "# node의 조정된 날짜를 구하는 함수\n",
    "def get_adj_date(inputdate:datetime.date, node:str, holidays):\n",
    "    # node 값이 D로 끝날 경우\n",
    "    if node[-1] == \"D\":\n",
    "    \t# extract_numbers 함수로 며칠 뒤의 데이터인지 값 추출\n",
    "        interval_number = extract_numbers(node)\n",
    "        interval = int(interval_number) # 숫자로 형식 변환\n",
    "        date = inputdate + relativedelta(days=interval) # 날짜 더하기\n",
    "        # date를 modified following 을 만족하는 날짜로 변경\n",
    "        adjdate = get_modf_eom_date(date, holidays).strftime(\"%Y-%m-%d\")\n",
    "    # node 값이 M으로 끝날 경우\n",
    "    elif node[-1] == \"M\":\n",
    "   \t    # extract_numbers 함수로 몇 달 뒤의 데이터인지 값 추출\n",
    "        interval_number = extract_numbers(node)\n",
    "        interval = int(interval_number) # 숫자로 형식 변환\n",
    "        date = inputdate + relativedelta(months=interval) # 월 수 더하기\n",
    "        # date를 modified following 을 만족하는 날짜로 변경\n",
    "        adjdate = get_modf_eom_date(date, holidays).strftime(\"%Y-%m-%d\")\n",
    "    # node 값이 Y로 끝날 경우\n",
    "    elif node[-1] == \"Y\":\n",
    "    \t# extract_numbers 함수로 몇 년 뒤의 데이터인지 값 추출\n",
    "        interval_number = extract_numbers(node)\n",
    "        interval = int(interval_number) # 숫자로 형식 변환\n",
    "        date = inputdate + relativedelta(years=interval) # 년 수 더하기\n",
    "        # date를 modified following 을 만족하는 날짜로 변경\n",
    "        adjdate = get_modf_eom_date(date, holidays).strftime(\"%Y-%m-%d\")\n",
    "    # 예외처리\n",
    "    else:\n",
    "        adjdate = inputdate\n",
    "    return adjdate\n",
    "\n",
    "# 'basedt\", \"node\", \"intrate\"으로 구성된 dataframe을 받아서 \"nodedate\"을 추가하고 \n",
    "# get_adj_date을 활용해서 \"nodedate\"컬럼을 값을 채워나가는 함수\n",
    "def get_node_date(df, basedt, holidays):\n",
    "\t# 빈 \"nodedate\" 컬럼 추가\n",
    "    df[\"nodedate\"] = \"\"\n",
    "    # 입수된 basedt를 날짜 형식으로 변경\n",
    "    basedt = datetime.strptime(basedt, \"%Y-%m-%d\")\n",
    "    # 입수된 dataframe 의 node 별로 get_adj_date 함수로 작업해서 \"nodedate\"컬럼에 값 채우기\n",
    "    for i in df[\"node\"]:\n",
    "        adjdate = get_adj_date(basedt, i, holidays)\n",
    "        df.loc[df[\"node\"]==i, \"nodedate\"] = adjdate\n",
    "    return df[[\"basedt\", \"node\", \"nodedate\", \"intrate\"]]"
   ]
  },
  {
   "cell_type": "markdown",
   "id": "9b938df0",
   "metadata": {},
   "source": [
    "KRX에서는 주기를 3개월 가정하기에 단위로 이자율 계산해서 bootstrapping통해 무이표금리\n",
    "선형보간법으로 비기준만기 스왑금리 커브 만듦 (금리와 금리사이 값)"
   ]
  },
  {
   "cell_type": "markdown",
   "id": "2b5e2c13",
   "metadata": {},
   "source": [
    "구간일수 구하기"
   ]
  },
  {
   "cell_type": "code",
   "execution_count": 4,
   "id": "0712d9b1",
   "metadata": {},
   "outputs": [],
   "source": [
    "# 라이브러리 사용\n",
    "from datetime import datetime, timedelta\n",
    "from dateutil.relativedelta import relativedelta\n",
    "import pandas as pd\n",
    "import re\n",
    "\n",
    "# modified following 과 end of month 규칙이 적용된 날짜를 구하는 함수\n",
    "def get_modf_eom_date(date, holidays):\n",
    "    origin_month = date.month\n",
    "    while date.weekday() >= 5 or date in holidays:\n",
    "        date += timedelta(days=1)\n",
    "    if date.month != origin_month:\n",
    "        end_of_month = datetime(date.year, origin_month + 1, 1) - timedelta(days=1)\n",
    "        while end_of_month.weekday() >= 5 or end_of_month in holidays:\n",
    "            end_of_month -= timedelta(days=1)\n",
    "        date = end_of_month\n",
    "    return date\n",
    "\n",
    "# Actual 365 날짜 규칙을 바탕으로 시작일과 종료일의 날짜를 계산하는 함수\n",
    "def get_timeinterval_a365f(startdt, enddt):\n",
    "    startdt = datetime.strptime(startdt, '%Y-%m-%d')\n",
    "    enddt = datetime.strptime(enddt, '%Y-%m-%d')\n",
    "    holidays = holidays\n",
    "    holidays = [datetime.strptime(holiday, '%Y-%m-%d') for holiday in holidays]\n",
    "    startdt = get_modf_eom_date(startdt)\n",
    "    enddt = get_modf_eom_date(enddt)\n",
    "    actdays = (enddt - startdt).days\n",
    "    return actdays"
   ]
  },
  {
   "cell_type": "markdown",
   "id": "c0112faf",
   "metadata": {},
   "source": [
    "선형보간법 함수"
   ]
  },
  {
   "cell_type": "code",
   "execution_count": 5,
   "id": "6c36db52",
   "metadata": {},
   "outputs": [],
   "source": [
    "def linear_interpolate(stdate, eddate, strate, edrate, targetdate):\n",
    "    tottimediff = get_timeinterval_a365f(stdate, eddate)\n",
    "    timediff = get_timeinterval_a365f(stdate, targetdate)\n",
    "    intdiff = edrate - strate\n",
    "    targetrate = strate + timediff / tottimediff * intdiff\n",
    "    return targetrate"
   ]
  },
  {
   "cell_type": "markdown",
   "id": "46f0a78c",
   "metadata": {},
   "source": [
    "3개월 단위 스왑커브"
   ]
  },
  {
   "cell_type": "code",
   "execution_count": 6,
   "id": "24875087",
   "metadata": {},
   "outputs": [],
   "source": [
    "def config_curve_by_unit(df: pd.DataFrame):\n",
    "        add_df = []\n",
    "        basedt = datetime.strftime(basedt, \"%Y-%m-%d\")\n",
    "        for i in df.index:\n",
    "            if df.at[i, \"node\"] == \"3M\":\n",
    "                targetdate1 = get_adj_date(basedt, \"6M\")\n",
    "                targetdate2 = get_adj_date(basedt, \"9M\")\n",
    "                stdate = df[df[\"node\"] == \"3M\"][\"nodedate\"].iloc[0]\n",
    "                eddate = df[df[\"node\"] == \"1Y\"][\"nodedate\"].iloc[0]\n",
    "                strate = df[df[\"node\"] == \"3M\"][\"intrate\"].iloc[0]\n",
    "                edrate = df[df[\"node\"] == \"1Y\"][\"intrate\"].iloc[0]\n",
    "                add_rate1 = linear_interpolate(stdate, eddate, strate, edrate, targetdate1)\n",
    "                add_row1 = [basedt, \"6M\", targetdate1, add_rate1]\n",
    "                add_df.append(add_row1)\n",
    "                add_rate2 = linear_interpolate(stdate, eddate, strate, edrate, targetdate2)\n",
    "                add_row2 = [basedt, \"9M\", targetdate2, add_rate2]\n",
    "                add_df.append(add_row2)\n",
    "            elif df.at[i, \"node\"][-1] == \"Y\" and i != df.index[-1]:\n",
    "                num_of_years = int(extract_numbers(df.at[i, \"node\"]))\n",
    "                month1 = str(num_of_years * 12 + 3) + \"M\"\n",
    "                month2 = str(num_of_years * 12 + 6) + \"M\"\n",
    "                month3 = str(num_of_years * 12 + 9) + \"M\" \n",
    "                targetdate1 = get_adj_date(basedt, month1)\n",
    "                targetdate2 = get_adj_date(basedt, month2)\n",
    "                targetdate3 = get_adj_date(basedt, month3)\n",
    "                stdate = df.at[i, \"nodedate\"]\n",
    "                eddate = df.at[i+1, \"nodedate\"]\n",
    "                strate = df.at[i, \"intrate\"]\n",
    "                edrate = df.at[i+1, \"intrate\"]\n",
    "                add_rate1 = linear_interpolate(stdate, eddate, strate, edrate, targetdate1)\n",
    "                add_row1 = [basedt, month1, targetdate1, add_rate1]\n",
    "                add_df.append(add_row1)\n",
    "                add_rate2 = linear_interpolate(stdate, eddate, strate, edrate, targetdate2)\n",
    "                add_row2 = [basedt, month2, targetdate2, add_rate2]\n",
    "                add_df.append(add_row2)\n",
    "                add_rate3 = linear_interpolate(stdate, eddate, strate, edrate, targetdate3)\n",
    "                add_row3 = [basedt, month3, targetdate3, add_rate3]\n",
    "                add_df.append(add_row3)\n",
    "        add_df = pd.DataFrame(add_df, columns=[\"basedt\", \"node\", \"nodedate\", \"intrate\"])\n",
    "        df = pd.concat([df, add_df])\n",
    "        df_sorted = df.sort_values(by=\"nodedate\", ascending=True)\n",
    "        df_sorted_reset = df_sorted.reset_index(drop=True)\n",
    "        return df_sorted_reset"
   ]
  }
 ],
 "metadata": {
  "kernelspec": {
   "display_name": "base",
   "language": "python",
   "name": "python3"
  },
  "language_info": {
   "codemirror_mode": {
    "name": "ipython",
    "version": 3
   },
   "file_extension": ".py",
   "mimetype": "text/x-python",
   "name": "python",
   "nbconvert_exporter": "python",
   "pygments_lexer": "ipython3",
   "version": "3.8.18"
  }
 },
 "nbformat": 4,
 "nbformat_minor": 5
}
